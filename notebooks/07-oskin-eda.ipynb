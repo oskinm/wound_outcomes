{
 "cells": [
  {
   "cell_type": "markdown",
   "metadata": {},
   "source": [
    "Import modules"
   ]
  },
  {
   "cell_type": "code",
   "execution_count": 1,
   "metadata": {},
   "outputs": [],
   "source": [
    "import numpy as np\n",
    "import pandas as pd\n",
    "import matplotlib.pyplot as plt\n",
    "import seaborn as sns\n",
    "\n",
    "import os\n",
    "import sys\n",
    "\n",
    "# add the 'src' directory as one where we can import modules\n",
    "src_dir = os.path.join(os.getcwd(), os.pardir, 'src')\n",
    "sys.path.append(src_dir)\n",
    "\n",
    "from data.stathinpy import draw_bs_reps_ind, draw_perm_reps\n",
    "\n",
    "pd.set_option('display.max_columns', 100)\n",
    "sns.set()\n",
    "sns.set_style(\"white\")\n",
    "\n",
    "\n",
    "%matplotlib inline"
   ]
  },
  {
   "cell_type": "markdown",
   "metadata": {},
   "source": [
    "### Read data"
   ]
  },
  {
   "cell_type": "code",
   "execution_count": 2,
   "metadata": {},
   "outputs": [],
   "source": [
    "df = pd.read_csv('../data/processed/wound_outcomes_v1.csv')"
   ]
  },
  {
   "cell_type": "markdown",
   "metadata": {},
   "source": [
    "### Value counts for ИСХОД"
   ]
  },
  {
   "cell_type": "code",
   "execution_count": 3,
   "metadata": {},
   "outputs": [
    {
     "data": {
      "text/plain": [
       "0    1882\n",
       "1      65\n",
       "2      15\n",
       "Name: ИСХОД, dtype: int64"
      ]
     },
     "execution_count": 3,
     "metadata": {},
     "output_type": "execute_result"
    }
   ],
   "source": [
    "df['ИСХОД'].value_counts()"
   ]
  },
  {
   "cell_type": "code",
   "execution_count": 4,
   "metadata": {},
   "outputs": [],
   "source": [
    "df = pd.get_dummies(df, columns=['тип', 'ВГА', 'ИСХОД'], drop_first=True)\n",
    "\n",
    "# 'ИСХОД' = ИСХОД_1 OR ИСХОД_2\n",
    "df['ИСХОД'] = df['ИСХОД_1'] + df ['ИСХОД_2']"
   ]
  },
  {
   "cell_type": "code",
   "execution_count": 5,
   "metadata": {},
   "outputs": [
    {
     "data": {
      "text/html": [
       "<div>\n",
       "<style scoped>\n",
       "    .dataframe tbody tr th:only-of-type {\n",
       "        vertical-align: middle;\n",
       "    }\n",
       "\n",
       "    .dataframe tbody tr th {\n",
       "        vertical-align: top;\n",
       "    }\n",
       "\n",
       "    .dataframe thead th {\n",
       "        text-align: right;\n",
       "    }\n",
       "</style>\n",
       "<table border=\"1\" class=\"dataframe\">\n",
       "  <thead>\n",
       "    <tr style=\"text-align: right;\">\n",
       "      <th></th>\n",
       "      <th>Off pump</th>\n",
       "      <th>КШ</th>\n",
       "      <th>Соч</th>\n",
       "      <th>тип_П</th>\n",
       "      <th>тип_Т</th>\n",
       "      <th>ВГА_1</th>\n",
       "      <th>ВГА_2</th>\n",
       "      <th>ИСХОД_1</th>\n",
       "      <th>ИСХОД_2</th>\n",
       "      <th>ИСХОД</th>\n",
       "    </tr>\n",
       "  </thead>\n",
       "  <tbody>\n",
       "    <tr>\n",
       "      <th>0</th>\n",
       "      <td>0</td>\n",
       "      <td>1</td>\n",
       "      <td>0</td>\n",
       "      <td>0</td>\n",
       "      <td>0</td>\n",
       "      <td>1</td>\n",
       "      <td>0</td>\n",
       "      <td>0</td>\n",
       "      <td>0</td>\n",
       "      <td>0</td>\n",
       "    </tr>\n",
       "    <tr>\n",
       "      <th>1</th>\n",
       "      <td>1</td>\n",
       "      <td>1</td>\n",
       "      <td>0</td>\n",
       "      <td>0</td>\n",
       "      <td>0</td>\n",
       "      <td>1</td>\n",
       "      <td>0</td>\n",
       "      <td>0</td>\n",
       "      <td>0</td>\n",
       "      <td>0</td>\n",
       "    </tr>\n",
       "    <tr>\n",
       "      <th>2</th>\n",
       "      <td>0</td>\n",
       "      <td>1</td>\n",
       "      <td>1</td>\n",
       "      <td>0</td>\n",
       "      <td>0</td>\n",
       "      <td>1</td>\n",
       "      <td>0</td>\n",
       "      <td>0</td>\n",
       "      <td>0</td>\n",
       "      <td>0</td>\n",
       "    </tr>\n",
       "    <tr>\n",
       "      <th>3</th>\n",
       "      <td>0</td>\n",
       "      <td>1</td>\n",
       "      <td>1</td>\n",
       "      <td>0</td>\n",
       "      <td>0</td>\n",
       "      <td>1</td>\n",
       "      <td>0</td>\n",
       "      <td>0</td>\n",
       "      <td>0</td>\n",
       "      <td>0</td>\n",
       "    </tr>\n",
       "    <tr>\n",
       "      <th>4</th>\n",
       "      <td>0</td>\n",
       "      <td>1</td>\n",
       "      <td>0</td>\n",
       "      <td>0</td>\n",
       "      <td>0</td>\n",
       "      <td>1</td>\n",
       "      <td>0</td>\n",
       "      <td>0</td>\n",
       "      <td>0</td>\n",
       "      <td>0</td>\n",
       "    </tr>\n",
       "  </tbody>\n",
       "</table>\n",
       "</div>"
      ],
      "text/plain": [
       "   Off pump  КШ  Соч  тип_П  тип_Т  ВГА_1  ВГА_2  ИСХОД_1  ИСХОД_2  ИСХОД\n",
       "0         0   1    0      0      0      1      0        0        0      0\n",
       "1         1   1    0      0      0      1      0        0        0      0\n",
       "2         0   1    1      0      0      1      0        0        0      0\n",
       "3         0   1    1      0      0      1      0        0        0      0\n",
       "4         0   1    0      0      0      1      0        0        0      0"
      ]
     },
     "execution_count": 5,
     "metadata": {},
     "output_type": "execute_result"
    }
   ],
   "source": [
    "df.head()"
   ]
  },
  {
   "cell_type": "markdown",
   "metadata": {},
   "source": [
    "### Bootstrap replicates and confidence interval for Outcome share"
   ]
  },
  {
   "cell_type": "code",
   "execution_count": 6,
   "metadata": {},
   "outputs": [],
   "source": [
    "# Set seed\n",
    "np.random.seed(42)\n",
    "\n",
    "# Draw 100000 bootstrap replicates of outcomes ('ИСХОД') mean\n",
    "\n",
    "data = df['ИСХОД'].values\n",
    "bs_outcome_reps = draw_bs_reps_ind(data, np.mean, size=100000)"
   ]
  },
  {
   "cell_type": "code",
   "execution_count": 7,
   "metadata": {},
   "outputs": [
    {
     "name": "stdout",
     "output_type": "stream",
     "text": [
      "95% confidence interval for Outcome, %\n",
      "[3.21100917 4.94520897]\n"
     ]
    },
    {
     "data": {
      "image/png": "[encoded data removed]",
      "text/plain": [
       "<Figure size 432x288 with 1 Axes>"
      ]
     },
     "metadata": {
      "needs_background": "light"
     },
     "output_type": "display_data"
    }
   ],
   "source": [
    "fig, ax = plt.subplots()\n",
    "ax.set_ylabel('PDF')\n",
    "ax.set_xlabel('Outcome, %')\n",
    "_ = sns.distplot(bs_outcome_reps*100, bins=20, ax=ax)\n",
    "\n",
    "print('95% confidence interval for Outcome, %' )\n",
    "print(np.percentile(bs_outcome_reps*100, [2.5, 97.5]))"
   ]
  },
  {
   "cell_type": "markdown",
   "metadata": {},
   "source": [
    "### Small multiples plot for Outcome share"
   ]
  },
  {
   "cell_type": "code",
   "execution_count": 8,
   "metadata": {},
   "outputs": [
    {
     "data": {
      "text/plain": [
       "Index(['Off pump', 'КШ', 'Соч', 'тип_П', 'тип_Т', 'ВГА_1', 'ВГА_2', 'ИСХОД_1',\n",
       "       'ИСХОД_2', 'ИСХОД'],\n",
       "      dtype='object')"
      ]
     },
     "execution_count": 8,
     "metadata": {},
     "output_type": "execute_result"
    }
   ],
   "source": [
    "df.columns"
   ]
  },
  {
   "cell_type": "code",
   "execution_count": 9,
   "metadata": {},
   "outputs": [],
   "source": [
    "# Select columns to plot\n",
    "columns = list(df.columns)\n",
    "del columns [7:10]\n",
    "\n",
    "# Specify cnum = number of columns in a plot\n",
    "cnum = 3\n",
    "# Calculate number of rows in a grid\n",
    "rnum = round(len(columns)/cnum)+1"
   ]
  },
  {
   "cell_type": "code",
   "execution_count": 10,
   "metadata": {},
   "outputs": [
    {
     "data": {
      "text/plain": [
       "['Off pump', 'КШ', 'Соч', 'тип_П', 'тип_Т', 'ВГА_1', 'ВГА_2']"
      ]
     },
     "execution_count": 10,
     "metadata": {},
     "output_type": "execute_result"
    }
   ],
   "source": [
    "columns"
   ]
  },
  {
   "cell_type": "code",
   "execution_count": 11,
   "metadata": {},
   "outputs": [],
   "source": [
    "def plot_cname_outcome_share(df, cname, ax):\n",
    "    \"\"\"plot_cname_outcome(df, cname, ax) generates plot from data `df` for the `cname` column on the `ax` axes\"\"\"\n",
    "    data = df.groupby([cname]).agg(outcome_share=('ИСХОД','mean'), \n",
    "                                  outcome_sum=('ИСХОД','sum'), \n",
    "                                  count=('ИСХОД','size')).reset_index()\n",
    "    data['outcome_share'] = data.outcome_share.round(2)\n",
    "    \n",
    "    sh = round(df['ИСХОД'].mean(), 2)\n",
    "    \n",
    "    ax.plot([-0.5, 1.5], [sh,sh], linestyle='--', alpha=0.3)\n",
    "    \n",
    "    ax.plot(data[cname],data['outcome_share'], alpha=0.8)\n",
    "    ax.scatter(data[cname],data['outcome_share'], alpha=0.3, s=data['count']/2)\n",
    "    for i in range(data.shape[0]):\n",
    "        ax.annotate(data.loc[i, 'outcome_share'],\n",
    "                   (data.loc[i, cname], data.loc[i, 'outcome_share']),\n",
    "                   alpha=0.6)\n",
    "    ax.set_title(cname)\n",
    "    ax.margins(0.15)\n",
    "    "
   ]
  },
  {
   "cell_type": "code",
   "execution_count": 12,
   "metadata": {
    "scrolled": false
   },
   "outputs": [
    {
     "data": {
      "image/png": "[encoded data removed]",
      "text/plain": [
       "<Figure size 720x720 with 9 Axes>"
      ]
     },
     "metadata": {
      "needs_background": "light"
     },
     "output_type": "display_data"
    }
   ],
   "source": [
    "# Create subplots\n",
    "fig, ax = plt.subplots(rnum, cnum, sharey=True, figsize=(10, 10))\n",
    "fig.subplots_adjust(hspace=0.4, wspace=0.4)\n",
    "\n",
    "for rn in range(rnum):\n",
    "        for cn in range(cnum):\n",
    "            idx = rn*(cnum) + cn\n",
    "            if (idx < len(columns)):\n",
    "                plot_cname_outcome_share(df, cname=columns[idx], ax=ax[rn, cn]) \n",
    "            else:\n",
    "                # Draw number of cases legend\n",
    "                for s in [200, 500, 1000, 1500]:\n",
    "                     ax[rn, cn].scatter([], [], alpha=0.3, s=s/2, label=str(s), c='k')\n",
    "                ax[rn, cn].set_title('Number of cases')        \n",
    "                ax[rn, cn].legend(scatterpoints=1, frameon=False, labelspacing=1.5)\n",
    "                break\n",
    "    \n",
    "#fig.set_title('Outcome share')\n",
    "plt.text(x=0.5, y=0.98, s=\"Outcome share\", fontsize=18, ha=\"center\", transform=fig.transFigure)\n",
    "plt.text(x=0.5, y=0.95, s= 'overall outcome share = {}, point size = number of cases'.format(round(df['ИСХОД'].mean(), 2)), \n",
    "         fontsize=15, ha=\"center\", transform=fig.transFigure)\n",
    "\n",
    "plt.show()"
   ]
  },
  {
   "cell_type": "code",
   "execution_count": 13,
   "metadata": {},
   "outputs": [],
   "source": [
    "def print_cname_outcome_share(df, cname):\n",
    "    \"\"\"print_cname_outcome(cname, ax) prints data for the `cname` column\"\"\"\n",
    "    data = df.groupby([cname]).agg(outcome_share=('ИСХОД','mean'), \n",
    "                                  outcome_1_cases=('ИСХОД','sum'), \n",
    "                                  total_cases=('ИСХОД','size'))#.reset_index()\n",
    "    data['outcome_share'] = data.outcome_share.round(2)\n",
    "    print(data)       "
   ]
  },
  {
   "cell_type": "markdown",
   "metadata": {},
   "source": [
    "### Outcome share in groups (numbers)"
   ]
  },
  {
   "cell_type": "code",
   "execution_count": 14,
   "metadata": {
    "scrolled": false
   },
   "outputs": [
    {
     "name": "stdout",
     "output_type": "stream",
     "text": [
      "--------------------------------------------------------------------------\n",
      "\n",
      "    outcome_share  outcome_1_cases  total_cases\n",
      "КШ                                             \n",
      "0            0.02                2          131\n",
      "1            0.04               78         1831\n",
      "\n",
      "\n",
      "--------------------------------------------------------------------------\n",
      "\n",
      "     outcome_share  outcome_1_cases  total_cases\n",
      "Соч                                             \n",
      "0             0.04               66         1598\n",
      "1             0.04               14          364\n",
      "\n",
      "\n",
      "--------------------------------------------------------------------------\n",
      "\n",
      "       outcome_share  outcome_1_cases  total_cases\n",
      "тип_П                                             \n",
      "0               0.04               70         1838\n",
      "1               0.08               10          124\n",
      "\n",
      "\n",
      "--------------------------------------------------------------------------\n",
      "\n",
      "       outcome_share  outcome_1_cases  total_cases\n",
      "тип_Т                                             \n",
      "0               0.04               67         1744\n",
      "1               0.06               13          218\n",
      "\n",
      "\n",
      "--------------------------------------------------------------------------\n",
      "\n",
      "       outcome_share  outcome_1_cases  total_cases\n",
      "ВГА_1                                             \n",
      "0               0.06               28          497\n",
      "1               0.04               52         1465\n",
      "\n",
      "\n",
      "--------------------------------------------------------------------------\n",
      "\n",
      "       outcome_share  outcome_1_cases  total_cases\n",
      "ВГА_2                                             \n",
      "0               0.03               55         1616\n",
      "1               0.07               25          346\n",
      "\n",
      "\n",
      "--------------------------------------------------------------------------\n",
      "\n",
      "         outcome_share  outcome_1_cases  total_cases\n",
      "ИСХОД_1                                             \n",
      "0                 0.01               15         1897\n",
      "1                 1.00               65           65\n",
      "\n",
      "\n",
      "--------------------------------------------------------------------------\n",
      "\n",
      "         outcome_share  outcome_1_cases  total_cases\n",
      "ИСХОД_2                                             \n",
      "0                 0.03               65         1947\n",
      "1                 1.00               15           15\n",
      "\n",
      "\n",
      "--------------------------------------------------------------------------\n",
      "\n",
      "       outcome_share  outcome_1_cases  total_cases\n",
      "ИСХОД                                             \n",
      "0                  0                0         1882\n",
      "1                  1               80           80\n",
      "\n",
      "\n"
     ]
    }
   ],
   "source": [
    "for idx in range(len(df.columns)-1):\n",
    "    print('--------------------------------------------------------------------------\\n')\n",
    "    print_cname_outcome_share(df, df.columns[idx + 1])\n",
    "    print('\\n')"
   ]
  },
  {
   "cell_type": "code",
   "execution_count": null,
   "metadata": {},
   "outputs": [],
   "source": []
  }
 ],
 "metadata": {
  "kernelspec": {
   "display_name": "Python 3",
   "language": "python",
   "name": "python3"
  },
  "language_info": {
   "codemirror_mode": {
    "name": "ipython",
    "version": 3
   },
   "file_extension": ".py",
   "mimetype": "text/x-python",
   "name": "python",
   "nbconvert_exporter": "python",
   "pygments_lexer": "ipython3",
   "version": "3.7.6"
  }
 },
 "nbformat": 4,
 "nbformat_minor": 4
}
